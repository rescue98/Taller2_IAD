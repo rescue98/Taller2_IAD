{
 "cells": [
  {
   "cell_type": "markdown",
   "metadata": {
    "slideshow": {
     "slide_type": "slide"
    }
   },
   "source": [
    "# Intro al análisis de datos - ICC732\n",
    "## Taller 2"
   ]
  },
  {
   "cell_type": "markdown",
   "metadata": {},
   "source": [
    "### Instrucciones"
   ]
  },
  {
   "cell_type": "markdown",
   "metadata": {},
   "source": [
    "## **Equipos**\n",
    "- Trabaje en grupos de 3 integrantes.\n",
    "- No se aceptan grupos de 4 integrantes\n",
    "- Si no cumple este requisito contacte al profesor.\n",
    "\n",
    "**Evaluación**\n",
    "- Parte 1: 6 tareas -> 0-3 puntos cada una.\n",
    "- Parte 2: 1 tarea  -> 0-3 puntos cada una.\n",
    "- Parte 3: 4 tareas -> 0-3 puntos cada una.\n",
    "\n",
    "**Reglamento**\n",
    "- Preguntas similares entre grupos, reciben nota mínima.\n",
    "- Puede usar herramientas de asistencia para responder su taller, pero debe adaptar el código al contexto que este taller exige.\n",
    "- Marque con una **X** si herramientas del tipo chatGPT para responder este taller: () Sí, (x) No.\n",
    "- No se revisarán entregas enviadas por Discord o correo electrónico.\n",
    "\n",
    "**Disponibilidad del Taller**\n",
    "- Desde: Lunes 2 de Octubre, 16:50.\n",
    "- Hasta: Miércoles 4 de Octubre: 23:00.\n",
    "\n",
    "**Hint**\n",
    "- Documente métodos y clases\n",
    "\n",
    "**Formato de entrega**\n",
    "- Apellido1-Apellido2-Apellido3.ipynb (ejecutable)\n",
    "- Apellido1-Apellido2-Apellido3.html\n",
    "- Solo 1 integrante sube el taller al campus virtual.\n",
    "- Crear respositorio GitHub: **Link acá**"
   ]
  },
  {
   "cell_type": "markdown",
   "metadata": {},
   "source": [
    "## Juego\n",
    "\n",
    "#### **Clases**\n",
    "- 1 clase denominada ``Dron``:\n",
    "    - representa un Dron en un juego de mesa.\n",
    "    - consta de dos parámetros que lo identifican: nombre y pisición.\n",
    "    - se inicializa en ``0,0`` con nombres ``Timon`` y ``Sid``\n",
    "\n",
    "- 1 clase denominada ``Tablero``:\n",
    "    - que representa un tablero de juego de mesa.\n",
    "    - tiene tamaño que se representa por: x e y.\n",
    "    - se inicializa en tamaño ``50,50``\n",
    "\n",
    "#### **Comportamiento**\n",
    "- El dron se mueve en 4 direcciones: arriba, abajo, izquierda, derecha\n",
    "- En el trablero, el dron puede lanzar bombas\n",
    "\n",
    "#### **Jugada**\n",
    "- Una juagada representa el juego en marcha.\n",
    "- Primero se mueven los drones en diferentes direcciones\n",
    "- Luego, cada dron lanza una bomba\n",
    "- Si la posición de la bomba lanzada por un dron coincide con la posicion del rival, entonces el dron gana."
   ]
  },
  {
   "cell_type": "markdown",
   "metadata": {},
   "source": [
    "#### 1 - Clase Dron\n",
    "\n",
    "- Cree la clase Dron\n",
    "- Implemente la clase.\n",
    "    - ``Dron``\n",
    "- Implemente los métodos\n",
    "    - ``mover_arriba``, ``mover_abajo``, ``mover_izquierda``, ``mover_arriba``, y  ``lanzar_bomba``."
   ]
  },
  {
   "cell_type": "code",
   "execution_count": 1,
   "metadata": {},
   "outputs": [],
   "source": [
    "\n",
    "    \n",
    "\n",
    "class Dron:\n",
    "    def __init__(self,nombre: str,x=0,y=0):\n",
    "        self.nombre=nombre\n",
    "        self.x=x\n",
    "        self.y=y\n",
    "        self.posicion=[self.x,self.y]\n",
    "    def mover_arriba(self,y,tablero):\n",
    "        if self.y + y > tablero.y:\n",
    "            print(\"Movimiento inválido, el dron no se movera hacia arriba porque saldrá del tablero\")\n",
    "        else:\n",
    "            self.y +=y\n",
    "            self.posicion=[self.x,self.y]\n",
    "    def mover_abajo(self,y,tablero):\n",
    "        if self.y + y < 0:\n",
    "            print(\"Movimiento inválido, el dron no se movera hacia abajo porque saldrá del tablero\")\n",
    "        else:\n",
    "            self.y -=y\n",
    "            self.posicion=[self.x,self.y]\n",
    "    def mover_izquierda(self,x,tablero):\n",
    "        if self.x + x < 0:\n",
    "            print(\"Movimiento inválido, el dron no se movera hacia la izquierda porque saldrá del tablero\")\n",
    "        else:\n",
    "            self.x -=x\n",
    "            self.posicion=[self.x,self.y]\n",
    "    def mover_derecha(self,x,tablero):\n",
    "        if self.x + x > tablero.x:\n",
    "            print(\"Movimiento inválido, el dron no se movera hacia la derecha porque saldrá del tablero\")\n",
    "        else:\n",
    "            self.x +=x\n",
    "            self.posicion=[self.x,self.y]\n",
    "    def lanzar_bomba(self, objetivo,dron2):\n",
    "        if objetivo==dron2.posicion:\n",
    "            print(\"Rival Destruido\",self.nombre,\" gana\")\n",
    "        else:\n",
    "            print(\"Bombardeo Fallido en \",objetivo)\n",
    "            \n",
    "Timon=Dron('Timon')\n",
    "Sid=Dron('Sid')\n"
   ]
  },
  {
   "cell_type": "markdown",
   "metadata": {},
   "source": [
    "#### 2 - Clase Tablero\n",
    "\n",
    "- Implemente la clase Tablero\n",
    "    - tiene tamaño que se representa por: x e y.\n",
    "    - se inicializa en tamaño ``50,50``"
   ]
  },
  {
   "cell_type": "code",
   "execution_count": 2,
   "metadata": {},
   "outputs": [],
   "source": [
    "class Tablero:\n",
    "    def __init__(self,x=50,y=50):\n",
    "        self.x=x\n",
    "        self.y=y\n",
    "\n",
    "tablero1=Tablero()"
   ]
  },
  {
   "cell_type": "markdown",
   "metadata": {},
   "source": [
    "#### 3 - Jugada\n",
    "\n",
    "- Implemente una jugada (con o sin clase)\n",
    "- Mueva los drones en cierta dirección.\n",
    "- Debe atacar lanzando bombas.\n",
    "- Uno de los drones debe ganar y hacer un anuncio al respecto."
   ]
  },
  {
   "cell_type": "code",
   "execution_count": 3,
   "metadata": {},
   "outputs": [
    {
     "name": "stdout",
     "output_type": "stream",
     "text": [
      "[20, 10]\n",
      "[23, 14]\n",
      "Bombardeo Fallido en  [25, 12]\n",
      "Bombardeo Fallido en  [31, 40]\n",
      "[22, 25]\n",
      "[49, 48]\n",
      "Bombardeo Fallido en  [45, 45]\n",
      "Bombardeo Fallido en  [13, 13]\n",
      "[2, 20]\n",
      "[26, 8]\n",
      "Bombardeo Fallido en  [25, 12]\n",
      "Rival Destruido Sid  gana\n"
     ]
    }
   ],
   "source": [
    "Timon=Dron('Timon')\n",
    "\n",
    "Sid=Dron('Sid')\n",
    "\n",
    "\n",
    "Timon.mover_arriba(10,tablero1)\n",
    "Timon.mover_derecha(20,tablero1)\n",
    "\n",
    "Sid.mover_arriba(14,tablero1)\n",
    "Sid.mover_derecha(23,tablero1)\n",
    "\n",
    "print(Timon.posicion)\n",
    "print(Sid.posicion)\n",
    "\n",
    "Timon.lanzar_bomba([25,12],Sid)\n",
    "Sid.lanzar_bomba([31,40],Timon)\n",
    "\n",
    "Timon.mover_arriba(15,tablero1)\n",
    "Timon.mover_derecha(2,tablero1)\n",
    "\n",
    "Sid.mover_arriba(34,tablero1)\n",
    "Sid.mover_derecha(26,tablero1)\n",
    "\n",
    "print(Timon.posicion)\n",
    "print(Sid.posicion)\n",
    "\n",
    "Timon.lanzar_bomba([45,45],Sid)\n",
    "Sid.lanzar_bomba([13,13],Timon)\n",
    "\n",
    "Timon.mover_abajo(5,tablero1)\n",
    "Timon.mover_izquierda(20,tablero1)\n",
    "\n",
    "Sid.mover_abajo(40,tablero1)\n",
    "Sid.mover_izquierda(23,tablero1)\n",
    "\n",
    "print(Timon.posicion)\n",
    "print(Sid.posicion)\n",
    "\n",
    "Timon.lanzar_bomba([25,12],Sid)\n",
    "Sid.lanzar_bomba([2,20],Timon)\n",
    "\n"
   ]
  }
 ],
 "metadata": {
  "kernelspec": {
   "display_name": "Python 3 (ipykernel)",
   "language": "python",
   "name": "python3"
  },
  "language_info": {
   "codemirror_mode": {
    "name": "ipython",
    "version": 3
   },
   "file_extension": ".py",
   "mimetype": "text/x-python",
   "name": "python",
   "nbconvert_exporter": "python",
   "pygments_lexer": "ipython3",
   "version": "3.11.4"
  }
 },
 "nbformat": 4,
 "nbformat_minor": 4
}
